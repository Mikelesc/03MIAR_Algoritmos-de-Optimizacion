{
 "cells": [
  {
   "cell_type": "markdown",
   "metadata": {
    "id": "Ofrcocl8c9RM"
   },
   "source": [
    "# AG3 - Actividad Guiada 3\n",
    "\n",
    "### Nombre: Mikel Escobar de Carlos\n",
    "\n",
    "https://github.com/Mikelesc/03MIAR_Algoritmos-de-Optimizacion\n",
    "\n",
    "https://colab.research.google.com/drive/1JJ65UR1-o3jxQZha6r0GHRIavQ-vccyP?usp=sharing\n"
   ]
  },
  {
   "cell_type": "markdown",
   "metadata": {
    "id": "nHRiJhTnFmuV"
   },
   "source": [
    "Carga de los datos del problema"
   ]
  },
  {
   "cell_type": "code",
   "execution_count": 1,
   "metadata": {
    "id": "mnA47nhtdKOc"
   },
   "outputs": [
    {
     "data": {
      "text/plain": [
       "('swiss42.tsp', <http.client.HTTPMessage at 0x1bc0bcb65c8>)"
      ]
     },
     "execution_count": 1,
     "metadata": {},
     "output_type": "execute_result"
    }
   ],
   "source": [
    "import urllib.request #Hacer llamadas http a paginas de la red\n",
    "import tsplib95       #Modulo para las instancias del problema del TSP\n",
    "import math           #Modulo de funciones matematicas. Se usa para exp\n",
    "\n",
    "#http://elib.zib.de/pub/mp-testdata/tsp/tsplib/\n",
    "#Documentacion : \n",
    "  # http://comopt.ifi.uni-heidelberg.de/software/TSPLIB95/tsp95.pdf\n",
    "  # https://tsplib95.readthedocs.io/en/stable/pages/usage.html\n",
    "  # https://tsplib95.readthedocs.io/en/v0.6.1/modules.html\n",
    "  # https://pypi.org/project/tsplib95/\n",
    "\n",
    "#Descargamos el fichero de datos(Matriz de distancias)\n",
    "file = \"swiss42.tsp\" ; \n",
    "urllib.request.urlretrieve(\"http://elib.zib.de/pub/mp-testdata/tsp/tsplib/tsp/swiss42.tsp\", file) \n",
    "\n",
    "#Coordendas 51-city problem (Christofides/Eilon)\n",
    "#file = \"eil51.tsp\" ; urllib.request.urlretrieve(\"http://elib.zib.de/pub/mp-testdata/tsp/tsplib/tsp/eil51.tsp\", file)\n",
    "\n",
    "#Coordenadas - 48 capitals of the US (Padberg/Rinaldi)\n",
    "#file = \"att48.tsp\" ; urllib.request.urlretrieve(\"http://elib.zib.de/pub/mp-testdata/tsp/tsplib/tsp/att48.tsp\", file)\n",
    "\n",
    "\n"
   ]
  },
  {
   "cell_type": "code",
   "execution_count": 2,
   "metadata": {
    "id": "ARkZkqP1m3tf"
   },
   "outputs": [],
   "source": [
    "#Modulos extras, no esenciales\n",
    "import numpy as np\n",
    "import matplotlib.pyplot as plt\n",
    "import imageio                    #Para construir las imagenes con gif\n",
    "# from google.colab import files    #Para descargar ficheros generados con google colab\n",
    "from tempfile import mkstemp      #Para genera carpetas y ficheros temporales\n",
    "import random                     #Para generar valores aleatorios"
   ]
  },
  {
   "cell_type": "code",
   "execution_count": 3,
   "metadata": {
    "id": "RIXYkDWcfmwd"
   },
   "outputs": [],
   "source": [
    "#Carga de datos y generación de objeto problem\n",
    "###############################################################################\n",
    "problem = tsplib95.load(file)\n",
    "\n",
    "#Nodos\n",
    "Nodos = list(problem.get_nodes())\n",
    "\n",
    "#Aristas\n",
    "Aristas = list(problem.get_edges())\n",
    "\n"
   ]
  },
  {
   "cell_type": "code",
   "execution_count": 4,
   "metadata": {
    "id": "a7bTofSnn_Jt"
   },
   "outputs": [
    {
     "data": {
      "text/plain": [
       "15"
      ]
     },
     "execution_count": 4,
     "metadata": {},
     "output_type": "execute_result"
    }
   ],
   "source": [
    "#Probamos algunas funciones del objeto problem\n",
    "\n",
    "#Distancia entre nodos\n",
    "problem.get_weight(0, 1)\n",
    "\n",
    "#Todas las funciones\n",
    "#Documentación: https://tsplib95.readthedocs.io/en/v0.6.1/modules.html\n",
    "                \n",
    "#dir(problem)"
   ]
  },
  {
   "cell_type": "markdown",
   "metadata": {
    "id": "BpwtaRQIFYvO"
   },
   "source": [
    "### Funcionas basicas\n"
   ]
  },
  {
   "cell_type": "code",
   "execution_count": 5,
   "metadata": {
    "id": "tzrkaBS3gmmz"
   },
   "outputs": [],
   "source": [
    " \n",
    "#Funcionas basicas\n",
    "###############################################################################      \n",
    "     \n",
    "#Se genera una solucion aleatoria con comienzo en en el nodo 0\n",
    "def crear_solucion(Nodos): \n",
    "    solucion = [Nodos[0]]\n",
    "    for n in Nodos[1:]:\n",
    "        solucion = solucion + [random.choice(list(set(Nodos) - set({Nodos[0]}) - set(solucion)))]\n",
    "    return solucion \n",
    "\n",
    "#Devuelve la distancia entre dos nodos\n",
    "def distancia(a,b, problem):\n",
    "    return problem.get_weight(a,b)\n",
    "\n",
    "#Devuelve la distancia total de una trayectoria/solucion\n",
    "def distancia_total(solucion, problem):\n",
    "    distancia_total = 0\n",
    "    for i in range(len(solucion)-1):\n",
    "        distancia_total += distancia(solucion[i] ,solucion[i+1] ,  problem)\n",
    "    return distancia_total + distancia(solucion[len(solucion)-1] ,solucion[0], problem)"
   ]
  },
  {
   "cell_type": "markdown",
   "metadata": {
    "id": "a8QFBj00Fs8m"
   },
   "source": [
    "### Busqueda Aleatoria"
   ]
  },
  {
   "cell_type": "code",
   "execution_count": 6,
   "metadata": {
    "colab": {
     "base_uri": "https://localhost:8080/"
    },
    "id": "nXhAb4oNk418",
    "outputId": "b63b0b6e-9954-46f9-b1f6-1c23e03c75aa"
   },
   "outputs": [
    {
     "name": "stdout",
     "output_type": "stream",
     "text": [
      "Mejor solución: [0, 13, 17, 12, 11, 8, 34, 33, 18, 35, 27, 22, 28, 30, 5, 37, 36, 15, 16, 31, 29, 19, 9, 40, 24, 21, 39, 4, 23, 6, 3, 26, 32, 41, 25, 2, 1, 10, 14, 7, 38, 20]\n",
      "Distancia     : 3807\n"
     ]
    }
   ],
   "source": [
    "###############################################################################\n",
    "# BUSQUEDA ALEATORIA\n",
    "###############################################################################\n",
    "\n",
    "def busqueda_aleatoria(problem, N):\n",
    "  Nodos = list(problem.get_nodes())\n",
    "  \n",
    "  mejor_solucion = []\n",
    "  #mejor_distancia = 10e100                         #Inicializamos con un valor alto\n",
    "  mejor_distancia = float('inf')                    #Inicializamos con un valor alto\n",
    "  \n",
    "  for i in range(N):                                #Criterio de parada: repetir N veces pero podemos incluir otros\n",
    "    solucion = crear_solucion(Nodos)                #Genera una solucion aleatoria\n",
    "    distancia = distancia_total(solucion, problem)  #Calcula el valor objetivo(distancia total)\n",
    "    \n",
    "    if distancia < mejor_distancia:                 #Compara con la mejor obtenida hasta ahora\n",
    "      mejor_solucion = solucion\n",
    "      mejor_distancia = distancia\n",
    "      \n",
    "      \n",
    "  print(\"Mejor solución:\" , mejor_solucion) \n",
    "  print(\"Distancia     :\" , mejor_distancia) \n",
    "  return mejor_solucion  \n",
    "\n",
    "    \n",
    "#Busqueda aleatoria con 5000 iteraciones    \n",
    "solucion = busqueda_aleatoria(problem, 5000)    \n",
    " "
   ]
  },
  {
   "cell_type": "markdown",
   "metadata": {
    "id": "Q0V7m1JhF2li"
   },
   "source": [
    "#Busqueda Local  2-opt"
   ]
  },
  {
   "cell_type": "code",
   "execution_count": 7,
   "metadata": {
    "colab": {
     "base_uri": "https://localhost:8080/"
    },
    "id": "BT2gWJsFm5hM",
    "outputId": "b60ccd7b-2111-457b-cf8e-b37ed6880174"
   },
   "outputs": [
    {
     "name": "stdout",
     "output_type": "stream",
     "text": [
      "Distancia Solucion Incial: 3807\n",
      "Distancia Mejor Solucion Local: 3432\n"
     ]
    }
   ],
   "source": [
    "###############################################################################\n",
    "# BUSQUEDA LOCAL\n",
    "###############################################################################\n",
    "\n",
    "def genera_vecina(solucion):\n",
    "  #Generador de soluciones vecinas: 2-opt (intercambiar 2 nodos) Si hay N nodos se generan (N-1)x(N-2)/2 soluciones\n",
    "  #Se puede modificar para aplicar otros generadores distintos que 2-opt\n",
    "  #print(solucion)\n",
    "  mejor_solucion = []\n",
    "  mejor_distancia = 10e100\n",
    "  for i in range(1,len(solucion)-1):          #Recorremos todos los nodos en bucle doble para evaluar todos los intercambios 2-opt\n",
    "    for j in range(i+1, len(solucion)):\n",
    "      \n",
    "      #Se genera una nueva solución intercambiando los dos nodos i,j:\n",
    "      #  (usamos el operador + que para listas en python las concatena) : ej.: [1,2] + [3] = [1,2,3]\n",
    "      vecina = solucion[:i] + [solucion[j]] + solucion[i+1:j] + [solucion[i]] + solucion[j+1:]  \n",
    "\n",
    "      #Se evalua la nueva solución ...\n",
    "      distancia_vecina = distancia_total(vecina, problem)         \n",
    "\n",
    "      #... para guardarla si mejora las anteriores\n",
    "      if distancia_vecina <= mejor_distancia:\n",
    "        mejor_distancia = distancia_vecina\n",
    "        mejor_solucion = vecina\n",
    "  return mejor_solucion\n",
    "\n",
    "\n",
    "#solucion = [1, 47, 13, 41, 40, 19, 42, 44, 37, 5, 22, 28, 3, 2, 29, 21, 50, 34, 30, 9, 16, 11, 38, 49, 10, 39, 33, 45, 15, 24, 43, 26, 31, 36, 35, 20, 8, 7, 23, 48, 27, 12, 17, 4, 18, 25, 14, 6, 51, 46, 32]\n",
    "print(\"Distancia Solucion Incial:\" , distancia_total(solucion, problem))\n",
    " \n",
    "\n",
    "nueva_solucion = genera_vecina(solucion)\n",
    "print(\"Distancia Mejor Solucion Local:\", distancia_total(nueva_solucion, problem))\n",
    "\n",
    " "
   ]
  },
  {
   "cell_type": "code",
   "execution_count": 16,
   "metadata": {
    "id": "UdBJg9Q9pYoE"
   },
   "outputs": [
    {
     "name": "stdout",
     "output_type": "stream",
     "text": [
      "En la iteracion  32 , la mejor solución encontrada es: [0, 32, 34, 28, 10, 41, 23, 29, 30, 38, 22, 25, 11, 12, 20, 33, 35, 36, 31, 27, 2, 8, 9, 21, 40, 24, 39, 18, 13, 19, 5, 26, 1, 7, 17, 37, 15, 16, 14, 6, 4, 3]\n",
      "Distancia     : 2010\n"
     ]
    }
   ],
   "source": [
    "#Busqueda Local:\n",
    "#  - Sobre el operador de vecindad 2-opt(funcion genera_vecina)\n",
    "#  - Sin criterio de parada, se para cuando no es posible mejorar.\n",
    "def busqueda_local(problem):\n",
    "  mejor_solucion = []\n",
    "  \n",
    "  #Generar una solucion inicial de referencia(aleatoria)\n",
    "  solucion_referencia = crear_solucion(Nodos)\n",
    "  mejor_distancia = distancia_total(solucion_referencia, problem)\n",
    "\n",
    "  iteracion=0             #Un contador para saber las iteraciones que hacemos\n",
    "  while(1):\n",
    "    iteracion +=1         #Incrementamos el contador\n",
    "    #print('#',iteracion)\n",
    "\n",
    "    #Obtenemos la mejor vecina ...\n",
    "    vecina = genera_vecina(solucion_referencia)\n",
    "\n",
    "    #... y la evaluamos para ver si mejoramos respecto a lo encontrado hasta el momento\n",
    "    distancia_vecina = distancia_total(vecina, problem)\n",
    " \n",
    "    #Si no mejoramos hay que terminar. Hemos llegado a un minimo local(según nuestro operador de vencindad 2-opt)\n",
    "    if distancia_vecina < mejor_distancia:\n",
    "      #mejor_solucion = copy.deepcopy(vecina)   #Con copia profunda. Las copias en python son por referencia \n",
    "      mejor_solucion = vecina                   #Guarda la mejor solución encontrada\n",
    "      mejor_distancia = distancia_vecina\n",
    "\n",
    "    else:\n",
    "      print(\"En la iteracion \", iteracion, \", la mejor solución encontrada es:\" , mejor_solucion) \n",
    "      print(\"Distancia     :\" , mejor_distancia) \n",
    "      return mejor_solucion\n",
    "      \n",
    "    solucion_referencia = vecina\n",
    " \n",
    " \n",
    "sol = busqueda_local(problem )  \n"
   ]
  },
  {
   "cell_type": "markdown",
   "metadata": {
    "id": "s1vhzMiaGLMT"
   },
   "source": [
    "#Simulated Annealing"
   ]
  },
  {
   "cell_type": "code",
   "execution_count": 9,
   "metadata": {
    "id": "EMwkY1r2pYLw"
   },
   "outputs": [
    {
     "data": {
      "text/plain": [
       "[0,\n",
       " 13,\n",
       " 17,\n",
       " 12,\n",
       " 11,\n",
       " 8,\n",
       " 34,\n",
       " 21,\n",
       " 18,\n",
       " 35,\n",
       " 27,\n",
       " 22,\n",
       " 28,\n",
       " 30,\n",
       " 5,\n",
       " 37,\n",
       " 36,\n",
       " 15,\n",
       " 16,\n",
       " 31,\n",
       " 29,\n",
       " 19,\n",
       " 9,\n",
       " 40,\n",
       " 24,\n",
       " 33,\n",
       " 39,\n",
       " 4,\n",
       " 23,\n",
       " 6,\n",
       " 3,\n",
       " 26,\n",
       " 32,\n",
       " 41,\n",
       " 25,\n",
       " 2,\n",
       " 1,\n",
       " 10,\n",
       " 14,\n",
       " 7,\n",
       " 38,\n",
       " 20]"
      ]
     },
     "execution_count": 9,
     "metadata": {},
     "output_type": "execute_result"
    }
   ],
   "source": [
    "###############################################################################\n",
    "# SIMULATED ANNEALING\n",
    "###############################################################################\n",
    "\n",
    "#Generador de 1 solucion vecina 2-opt 100% aleatoria (intercambiar 2 nodos)\n",
    "#Mejorable eligiendo otra forma de elegir una vecina.\n",
    "def genera_vecina_aleatorio(solucion):\n",
    "\n",
    "  #Se eligen dos nodos aleatoriamente\n",
    "  i,j = sorted(random.sample( range(1,len(solucion)) , 2))\n",
    "  \n",
    "  #Devuelve una nueva solución pero intercambiando los dos nodos elegidos al azar\n",
    "  return solucion[:i] + [solucion[j]] + solucion[i+1:j] + [solucion[i]] + solucion[j+1:]\n",
    "  \n",
    " \n",
    "genera_vecina_aleatorio(solucion) \n"
   ]
  },
  {
   "cell_type": "code",
   "execution_count": 10,
   "metadata": {
    "id": "GsN1UIDp0j6I"
   },
   "outputs": [],
   "source": [
    "\n",
    "#Funcion de probabilidad para aceptar peores soluciones\n",
    "def probabilidad(T,d):\n",
    "  if random.random() <  math.exp( -1*d / T)  :\n",
    "    return True\n",
    "  else:\n",
    "    return False\n",
    "\n",
    "#Funcion de descenso de temperatura\n",
    "def bajar_temperatura(T):\n",
    "  return T*0.99"
   ]
  },
  {
   "cell_type": "code",
   "execution_count": 11,
   "metadata": {
    "id": "4waPiCcVtuhF"
   },
   "outputs": [
    {
     "name": "stdout",
     "output_type": "stream",
     "text": [
      "La mejor solución encontrada es [0, 1, 11, 25, 10, 22, 38, 34, 33, 20, 30, 23, 41, 8, 29, 32, 3, 27, 28, 39, 24, 40, 21, 9, 2, 26, 5, 13, 18, 12, 4, 6, 15, 16, 14, 19, 37, 36, 35, 31, 17, 7]\n",
      "con una distancia total de 1973\n"
     ]
    }
   ],
   "source": [
    "def recocido_simulado(problem, TEMPERATURA ):\n",
    "  #problem = datos del problema\n",
    "  #T = Temperatura\n",
    "  \n",
    "  solucion_referencia = crear_solucion(Nodos)\n",
    "  distancia_referencia = distancia_total(solucion_referencia, problem)\n",
    "  \n",
    "  mejor_solucion = []\n",
    "  mejor_distancia = 10e100\n",
    "  \n",
    "  \n",
    "  N=0\n",
    "  while TEMPERATURA > .0001:\n",
    "    N+=1\n",
    "    #Genera una solución vecina\n",
    "    vecina =genera_vecina_aleatorio(solucion_referencia)\n",
    "    \n",
    "    #Calcula su valor(distancia)\n",
    "    distancia_vecina = distancia_total(vecina, problem)\n",
    "      \n",
    "    #Si es la mejor solución de todas se guarda(siempre!!!)\n",
    "    if distancia_vecina < mejor_distancia:\n",
    "        mejor_solucion = vecina\n",
    "        mejor_distancia = distancia_vecina\n",
    "    \n",
    "    #Si la nueva vecina es mejor se cambia  \n",
    "    #Si es peor se cambia según una probabilidad que depende de T y delta(distancia_referencia - distancia_vecina)\n",
    "    if distancia_vecina < distancia_referencia or probabilidad(TEMPERATURA, abs(distancia_referencia - distancia_vecina) ) :\n",
    "      #solucion_referencia = copy.deepcopy(vecina)\n",
    "      solucion_referencia = vecina\n",
    "      distancia_referencia = distancia_vecina\n",
    "\n",
    "    #Bajamos la temperatura\n",
    "    TEMPERATURA = bajar_temperatura(TEMPERATURA)\n",
    " \n",
    "  print(\"La mejor solución encontrada es \" , end=\"\")\n",
    "  print(mejor_solucion)\n",
    "  print(\"con una distancia total de \" , end=\"\")\n",
    "  print(mejor_distancia)\n",
    "  return mejor_solucion\n",
    "\n",
    "solu  = recocido_simulado(problem, 30000000)"
   ]
  },
  {
   "cell_type": "markdown",
   "metadata": {},
   "source": [
    "### Tareas opcionales para mejorar nota:\n",
    " - Búsqueda local con Entornos variables.\n",
    " ¿Se puede mejorar con otros operadores de vecindad variables?\n"
   ]
  },
  {
   "cell_type": "markdown",
   "metadata": {},
   "source": [
    "Voy a probar no a cambiar parejas contiguas sino a una distancia aleatoria."
   ]
  },
  {
   "cell_type": "code",
   "execution_count": 20,
   "metadata": {},
   "outputs": [
    {
     "name": "stdout",
     "output_type": "stream",
     "text": [
      "Distancia Solucion Aleatoria: 4736\n",
      "Hemos encontrado solucion con distancia:  4773\n",
      "Hemos encontrado solucion con distancia:  4531\n",
      "Hemos encontrado solucion con distancia:  4432\n",
      "Hemos encontrado solucion con distancia:  4400\n",
      "Hemos encontrado solucion con distancia:  4364\n",
      "Hemos encontrado solucion con distancia:  4361\n",
      "Hemos encontrado solucion con distancia:  4309\n",
      "\n",
      "Distancia Mejor Solucion Local permutaciones no contiguas: 4309\n"
     ]
    }
   ],
   "source": [
    "# def swap_random(seq): # Intercambia de manera aleatoria dos elementos de la lista\n",
    "#     idx = range(len(seq))\n",
    "#     i1, i2 = random.sample(idx, 2)\n",
    "#     seq[i1], seq[i2] = seq[i2], seq[i1]\n",
    "#     return seq\n",
    "\n",
    "def genera_vecina2(solucion, n_iter):\n",
    "    \n",
    "    mejor_solucion = solucion\n",
    "    mejor_distancia = 10e100\n",
    "    for i in range(n_iter):\n",
    "\n",
    "        vecina = genera_vecina_aleatorio(solucion)\n",
    "\n",
    "        #Se evalua la nueva solución\n",
    "        distancia_vecina = distancia_total(vecina, problem)         \n",
    "\n",
    "        # guardarla si mejora las anteriores\n",
    "        if distancia_vecina < mejor_distancia:\n",
    "            print(\"Hemos encontrado solucion con distancia: \", distancia_vecina)\n",
    "            mejor_distancia = distancia_vecina\n",
    "            mejor_solucion = vecina\n",
    "\n",
    "    return mejor_solucion, mejor_distancia\n",
    "\n",
    "\n",
    "#Busqueda aleatoria con 5000 iteraciones    \n",
    "# solucion = busqueda_aleatoria(problem, 5000)\n",
    "print(\"Distancia Solucion Aleatoria:\" , distancia_total(solucion, problem))\n",
    " \n",
    "\n",
    "sol, dist = genera_vecina2(solucion, 200000)\n",
    "print(\"\\nDistancia Mejor Solucion Local permutaciones no contiguas:\", dist)\n"
   ]
  },
  {
   "cell_type": "markdown",
   "metadata": {},
   "source": [
    "No conseguimos el mejor resultado pero bueno. "
   ]
  },
  {
   "cell_type": "markdown",
   "metadata": {},
   "source": [
    "Voy a combinar las busqueda local por parejas contiguas con esta. La idea es que cuando la busqueda local permutando parejas no pueda mejorar nuestra solucion, intentar buscar un cambio aleatorio que si que lo consiga, para salir de ese minimo local o intentarlo e intensificar de nuevo intercambiando parejas."
   ]
  },
  {
   "cell_type": "code",
   "execution_count": 47,
   "metadata": {},
   "outputs": [
    {
     "name": "stdout",
     "output_type": "stream",
     "text": [
      "Distancia Solucion Incial: 4736\n",
      "initd 1408\n",
      "initd 1408\n",
      "initd 1408\n",
      "initd 1408\n",
      "initd 1408\n",
      "initd 1408\n",
      "initd 1408\n",
      "initd 1408\n",
      "initd 1408\n",
      "initd 1408\n",
      "initd 1408\n",
      "initd 1408\n",
      "initd 1408\n",
      "initd 1408\n",
      "initd 1408\n",
      "initd 1408\n",
      "initd 1408\n",
      "initd 1408\n",
      "initd 1408\n",
      "Distancia Mejor Solucion Local: 1408\n"
     ]
    }
   ],
   "source": [
    "def genera_vecina_aleatorio2(solucion, problem):\n",
    "    init_d = distancia_total(solucion, problem)\n",
    "    #Se eligen dos nodos aleatoriamente\n",
    "    k = 0\n",
    "    while k < 5000:\n",
    "        k += 1\n",
    "        i,j = sorted(random.sample( range(1,len(solucion)) , 2))\n",
    "        s = solucion[:i] + [solucion[j]] + solucion[i+1:j] + [solucion[i]] + solucion[j+1:]\n",
    "        new_d = distancia_total(s, problem)\n",
    "        if new_d < init_d:\n",
    "            print(\"\\nDistancia nueva aleatoria! :\" , new_d) \n",
    "            return s     #Devuelve una nueva solución pero intercambiando los dos nodos elegidos al azar, solo si mejora la existente\n",
    "    \n",
    "    return solucion\n",
    "\n",
    "def busqueda_local2(solucion, problem):\n",
    "    #Generar una solucion inicial de referencia(aleatoria)\n",
    "    mejor_sol = solucion\n",
    "    mejor_distancia = distancia_total(mejor_sol, problem)\n",
    "\n",
    "    iteracion=0             #Un contador para saber las iteraciones que hacemos\n",
    "    while(1):\n",
    "        iteracion +=1         #Incrementamos el contador\n",
    "        #print('#',iteracion)\n",
    "\n",
    "        #Obtenemos la mejor vecina ...\n",
    "        vecina = genera_vecina(mejor_sol)\n",
    "\n",
    "        #... y la evaluamos para ver si mejoramos respecto a lo encontrado hasta el momento\n",
    "        distancia_vecina = distancia_total(vecina, problem)\n",
    "\n",
    "        #Si no mejoramos hay que terminar. Hemos llegado a un minimo local(según nuestro operador de vencindad 2-opt)\n",
    "        if distancia_vecina < mejor_distancia:\n",
    "            #mejor_solucion = copy.deepcopy(vecina)   #Con copia profunda. Las copias en python son por referencia \n",
    "            mejor_sol = vecina                   #Guarda la mejor solución encontrada\n",
    "            mejor_distancia = distancia_vecina\n",
    "\n",
    "        else:\n",
    "            if iteracion == 60:\n",
    "                print(\"En la iteracion \", iteracion, \", la mejor solución encontrada es:\" , mejor_sol)\n",
    "                print(\"Distancia     :\" , mejor_distancia) \n",
    "                return mejor_sol\n",
    "            else:\n",
    "                mejor_sol = genera_vecina_aleatorio2(mejor_sol, problem) # Si no hemos llegado a la iteracion 60 hacemos una busqueda aleatoria a ver si encontramos algo mejor\n",
    "\n",
    "            \n",
    "\n",
    "# solucion = [1, 47, 13, 41, 40, 19, 42, 44, 37, 5, 22, 28, 3, 2, 29, 21, 50, 34, 30, 9, 16, 11, 38, 49, 10, 39, 33, 45, 15, 24, 43, 26, 31, 36, 35, 20, 8, 7, 23, 48, 27, 12, 17, 4, 18, 25, 14, 6, 51, 46, 32]\n",
    "print(\"Distancia Solucion Incial:\" , distancia_total(solucion, problem))\n",
    " \n",
    "\n",
    "sol2 = busqueda_local2(solucion, problem)\n",
    "print(\"Distancia Mejor Solucion Local:\", distancia_total(sol2,problem))"
   ]
  },
  {
   "cell_type": "markdown",
   "metadata": {},
   "source": [
    "No consigo mejorar la busqueda local normal."
   ]
  },
  {
   "cell_type": "markdown",
   "metadata": {},
   "source": [
    " ### Recocido simulado\n",
    " ### ¿Se puede mejorar con otra elección no tan aleatoria( función genera_vecina_aleatorio() ) ?"
   ]
  },
  {
   "cell_type": "markdown",
   "metadata": {},
   "source": [
    "Si, durante mis estudios de Física Computacional usabamos un criterio más complejo que dependía de la temperatura para aceptar las nuevas configuraciones. En concreto hicimos una simulación de Monte Carlo del modelo de Ising, la cual optimizabamos con simmulated annealing."
   ]
  },
  {
   "cell_type": "code",
   "execution_count": null,
   "metadata": {},
   "outputs": [],
   "source": []
  },
  {
   "cell_type": "code",
   "execution_count": null,
   "metadata": {},
   "outputs": [],
   "source": []
  },
  {
   "cell_type": "code",
   "execution_count": null,
   "metadata": {},
   "outputs": [],
   "source": []
  }
 ],
 "metadata": {
  "colab": {
   "collapsed_sections": [],
   "name": "Raul Reyero - Algoritmos(ABR21)  - AG3.ipynb",
   "provenance": [],
   "toc_visible": true
  },
  "kernelspec": {
   "display_name": "Python 3 (ipykernel)",
   "language": "python",
   "name": "python3"
  },
  "language_info": {
   "codemirror_mode": {
    "name": "ipython",
    "version": 3
   },
   "file_extension": ".py",
   "mimetype": "text/x-python",
   "name": "python",
   "nbconvert_exporter": "python",
   "pygments_lexer": "ipython3",
   "version": "3.7.11"
  }
 },
 "nbformat": 4,
 "nbformat_minor": 1
}
