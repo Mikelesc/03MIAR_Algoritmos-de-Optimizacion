{
 "cells": [
  {
   "cell_type": "markdown",
   "metadata": {
    "id": "hVbXYX-RfPWh"
   },
   "source": [
    "# Algoritmos de optimización - Trabajo Práctico\n",
    "### Nombre y Apellidos: Mikel Escobar de Carlos \n",
    "Url: https://github.com/Mikelesc/03MIAR_Algoritmos-de-Optimizacion\n",
    "\n",
    "Collab: https://colab.research.google.com/drive/1ivbqQjGT82nGU6wZAsbRAEKWqnYPp1s-?usp=sharing\n",
    "\n",
    "\n",
    "\n",
    "## Problema 3: Combinar cifras y operaciones\n",
    "\n",
    "Descripción del problema:\n",
    "\n",
    "**Disponemos de las 9 cifras del 1 al 9 (excluimos el cero) y de los 4 signos básicos de las\n",
    "operaciones fundamentales: suma(+), resta(-), multiplicación(*) y división(/). Debemos combinarlos alternativamente sin repetir ninguno de ellos para obtener una cantidad\n",
    "dada. Un ejemplo sería para obtener el 4:**\n",
    "\n",
    "**4+2-6/3*1 = 4**\n",
    "\n",
    "\n",
    "\n",
    "                                        "
   ]
  },
  {
   "cell_type": "markdown",
   "metadata": {
    "id": "3_-exlrTgLd-"
   },
   "source": [
    "### *¿Cuantas posibilidades hay sin tener en cuenta las restricciones? ¿Cuantas posibilidades hay teniendo en cuenta todas las restricciones."
   ]
  },
  {
   "cell_type": "markdown",
   "metadata": {
    "id": "WfCUqJyKhPcw"
   },
   "source": [
    "Sin tener en cuenta las restricciones podemos repetir tanto números como operaciones, luego tenemos 13 elementos (9 cifras y 4 operaciones) y en caso de que tampoco haya restricción en el número de elementos a utilizar habría **infinitas** combinaciones. Si consideramos que el número máximo de elementos sigue siendo 9, pero con repetición y sin importar si es una cifra o una operación, entonces tendremos el número de variaciones con repetición. Cada vez que escojamos uno de los 13 elementos podemos combinarlo con uno cualquiera de los 13, luego tendríamos **13^9 posibilidades**, aunque esto daría lugar a expresiones sin sentido como tener 9 signos de multiplicación. Para que tuviese más sentido podríamos imponer que haya que intercalar cifras y operaciones, pero en ese caso estamos ya casi resolviendo el problema con restricciones.\n",
    "\n"
   ]
  },
  {
   "cell_type": "markdown",
   "metadata": {
    "id": "iq6Fe32MgpDX"
   },
   "source": [
    "Teniendo en cuenta todas las restricciones sí que tenemos un espacio de posibilidades acotado. Al no poder repetir ni cifras ni operadores y tener que combinarlos de forma alterna, tendremos las posibles variaciones sin repetición de cifras multiplicadas por las posibles variaciones sin repetición de operaciones:\n",
    "\n",
    "$V_m^n= m ·(m-1) ·(m-2) ··· (m - n + 1) = \\frac{m!}{(m-n)!}$\n",
    "\n",
    "* Las variaciones de las 4 operaciones cogiendo las 4 eqivalen a : $4!$\n",
    "\n",
    "* Las variaciones de las 9 cifras cogiendo 5 de ellas equivalen a: $9!/4!$\n",
    "\n",
    "Luego en total tenemos:\n",
    "\n",
    "Posibilidades = $\\frac{9!}{4!}\\cdot\\frac{4!}{0!}$ = 9! = **362880**\n"
   ]
  },
  {
   "cell_type": "markdown",
   "metadata": {
    "id": "dzynfVJahHoY"
   },
   "source": [
    "### * ¿Cual es la estructura de datos que mejor se adapta al problema? Argumentalo.(Es posible que hayas elegido una al principio y veas la necesidad de cambiar, argumentalo)\n"
   ]
  },
  {
   "cell_type": "markdown",
   "metadata": {
    "id": "xFIJrOwKi2Ti"
   },
   "source": [
    "Bueno así a priori lo que veo es que tenemos dos listas de elementos. Una lista (o un set ya que no repetimos elementos) con las 9 cifras y otra lista con las 4 operaciones. De momento comenzaré con esta estructura de datos."
   ]
  },
  {
   "cell_type": "markdown",
   "metadata": {},
   "source": [
    "### *¿Cual es la función objetivo?"
   ]
  },
  {
   "cell_type": "markdown",
   "metadata": {},
   "source": [
    "Buscamos construir una expresión aritmética cuya evaluación sea igual a la cantidad dada, es decir eval(expresion) - cantidad = 0"
   ]
  },
  {
   "cell_type": "markdown",
   "metadata": {
    "id": "7Z9U2W7bi-XS"
   },
   "source": [
    "\n",
    "### *¿Es un problema de maximización o minimización?"
   ]
  },
  {
   "cell_type": "markdown",
   "metadata": {
    "id": "hBalWLM7j1_d"
   },
   "source": [
    "De primeras parece un problema de búsqueda, no estoy maximizando ni minimizando una función, simplemente busco (si existe) la combinación que cumple las restricciones."
   ]
  },
  {
   "cell_type": "markdown",
   "metadata": {
    "id": "rlnTYgY1j6I2"
   },
   "source": [
    "### Diseña un algoritmo para resolver el problema por fuerza bruta"
   ]
  },
  {
   "cell_type": "markdown",
   "metadata": {
    "id": "CJb5sQ0qkENy"
   },
   "source": [
    "Por fuerza bruta podemos simplemente realizar todas las combinaciones posibles y evaluarlas hasta encontrar aquella que satisfaga todas las condiciones. Vamos a echar mano de itertools para calcularlas todas. El método permutations recible una lista de elementos de tamaño m y devuelve combinaciones de tamaño n de esos elementos sin repetición."
   ]
  },
  {
   "cell_type": "code",
   "execution_count": 6,
   "metadata": {},
   "outputs": [],
   "source": [
    "from itertools import permutations\n",
    "from functools import reduce\n",
    "import operator"
   ]
  },
  {
   "cell_type": "code",
   "execution_count": 168,
   "metadata": {},
   "outputs": [
    {
     "name": "stdout",
     "output_type": "stream",
     "text": [
      "Wall time: 1.79 s\n"
     ]
    },
    {
     "data": {
      "text/plain": [
       "'4/1-2+7*9'"
      ]
     },
     "execution_count": 168,
     "metadata": {},
     "output_type": "execute_result"
    }
   ],
   "source": [
    "%%time\n",
    "cifras = [\"1\",\"2\",\"3\",\"4\",\"5\",\"6\",\"7\",\"8\",\"9\"]\n",
    "operaciones = [\"+\",\"-\",\"*\",\"/\"]\n",
    "\n",
    "def fuerza_bruta(objetivo, cifras = cifras, operaciones = operaciones):\n",
    "    for numeros in permutations(cifras, len(operaciones)+1):\n",
    "        for signos in permutations(operaciones):\n",
    "            expresion_lst = [x+y for x, y in zip([\"\"] + list(signos),numeros)]\n",
    "            expresion = \"\".join(expresion_lst)\n",
    "            if eval(expresion) == objetivo:\n",
    "                return expresion\n",
    "    return f\"No se ha encontrado expresión para {objetivo}\"\n",
    "\n",
    "fuerza_bruta(65)"
   ]
  },
  {
   "cell_type": "markdown",
   "metadata": {},
   "source": [
    "Lo podemos modificar brevemente para analizar cuales son los valores máximo y mínimo que podemos obtener:"
   ]
  },
  {
   "cell_type": "code",
   "execution_count": 4,
   "metadata": {},
   "outputs": [
    {
     "name": "stdout",
     "output_type": "stream",
     "text": [
      "Wall time: 3.68 s\n"
     ]
    },
    {
     "data": {
      "text/plain": [
       "(78.83333333333333, -70.71428571428571)"
      ]
     },
     "execution_count": 4,
     "metadata": {},
     "output_type": "execute_result"
    }
   ],
   "source": [
    "%%time\n",
    "def fuerza_bruta_max_min(cifras = cifras, operaciones = operaciones):\n",
    "    lista = []\n",
    "    for numeros in permutations(cifras, len(operaciones)+1):\n",
    "        for signos in permutations(operaciones):\n",
    "            expresion_lst = [x+y for x, y in zip([\"\"] + list(signos),numeros)]\n",
    "            expresion = \"\".join(expresion_lst)\n",
    "            lista.append(eval(expresion))\n",
    "    return max(lista), min(lista)\n",
    "\n",
    "fuerza_bruta_max_min()"
   ]
  },
  {
   "cell_type": "markdown",
   "metadata": {
    "id": "tgrnsC2nkFa8"
   },
   "source": [
    "### Calcula la complejidad del algoritmo por fuerza bruta"
   ]
  },
  {
   "cell_type": "markdown",
   "metadata": {
    "id": "9eUd3xwckP68"
   },
   "source": [
    "Como vemos vamos recorriendo todas las combinaciones posibles tal que:\n",
    "\n",
    "$\\frac{m!}{(m-(n+1))!} * n!$   (En este caso m = 9 y n = 4)\n",
    "\n",
    "Podríamos estimar que la complejidad es $O(m!·n!)$. En este caso especifico. Para un algoritmo con este enfoque a un problema que busque combinaciones en una lista de elementos podemos simplemente decir: $O(N!)$, donde N será el tamaño de la lista.\n",
    "\n",
    "En nuestro problema, si tuviesemos conjuntos de tamaño similar podríamos decir: $O(n!^2)$ ya que tenemos dos listas.\n",
    "\n",
    "A primera vista uno puede caer en pensar que es $O(n^2)$  ya que simplemente estamos recorriendo dos listas en el código (dos bucles anidados), pero el método **permutations** está haciéndonos el trabajo de calcular todas las combinaciones.\n",
    " "
   ]
  },
  {
   "cell_type": "markdown",
   "metadata": {
    "id": "txbrmLmskReM"
   },
   "source": [
    "### *Diseña un algoritmo que mejore la complejidad del algortimo por fuerza bruta. Argumenta porque crees que mejora el algoritmo por fuerza bruta"
   ]
  },
  {
   "cell_type": "markdown",
   "metadata": {
    "id": "hLrVwt5QkZPD"
   },
   "source": [
    "Vemos que le cuesta encontrar la solución desde 80ms a unos 3.6s en los casos más desfavorables (cuando tiene que evaluar casi todas las combinaciones) al algoritmo de fuerza bruta. De primeras me viene la idea de probar con un algoritmo de **ramificación y poda**, ya que podemos ir evaluando como nos acercamos al objetivo y descartar ramas que se alejan mucho. Por ejemplo si queremos expresar el -24 y tenemos un nodo que empieza por \"8*9\" puedes descartarlo."
   ]
  },
  {
   "cell_type": "code",
   "execution_count": 2,
   "metadata": {},
   "outputs": [],
   "source": [
    "from random import sample\n",
    "\n",
    "cifras = [\"1\",\"2\",\"3\",\"4\",\"5\",\"6\",\"7\",\"8\",\"9\"]\n",
    "operaciones = [\"+\",\"-\",\"*\",\"/\"]\n",
    "\n",
    "def generar_nodo(padre = None, cifras = cifras, operaciones = operaciones):\n",
    "    \"\"\"\n",
    "    Dado un nodo añade una operación y una cifra de las que quedan.\n",
    "    \"\"\"\n",
    "    if padre is None:\n",
    "        return sample(operaciones,1)[0].join(sample(cifras,2))\n",
    "    else:\n",
    "        op_left = list(set(operaciones) - set(padre) - set(cifras))\n",
    "        cif_left = list(set(cifras) - set(padre) - set(operaciones))\n",
    "        if len(op_left) >= 1:\n",
    "            return padre + sample(op_left,1)[0] + (sample(cif_left,1))[0]\n",
    "        else:\n",
    "            return padre\n",
    "        \n",
    "def calcular_cotas(nodo, cifras = cifras, operaciones = operaciones):\n",
    "    \"\"\"\n",
    "    Calculamos cotas aproximadas.\n",
    "    \"\"\"\n",
    "    if eval(nodo) > 0:\n",
    "        op_max = [\"*\",\"+\"]\n",
    "        op_min = [\"/\",\"-\"]\n",
    "    else:\n",
    "        op_max = [\"/\",\"+\"]\n",
    "        op_min = [\"*\",\"-\"]\n",
    "        \n",
    "    op_left_max = list(set(op_max) - set(nodo))\n",
    "    op_left_min = list(set(op_min) - set(nodo))\n",
    "    cif_left = list(set(cifras)-set(nodo))\n",
    "    if len(op_left_max) > 0:\n",
    "        cota_max = eval(nodo + op_left_max[0] + max(cif_left))\n",
    "    else:\n",
    "        cota_max = eval(nodo)\n",
    "        \n",
    "    if len(op_left_min) > 0:\n",
    "        cota_min = eval(nodo + op_left_min[0] + max(cif_left))\n",
    "    else:\n",
    "        cota_min = eval(nodo)\n",
    "        \n",
    "    return cota_max, cota_min\n",
    "        \n",
    "\n",
    "def evaluar(nodo, lista, objetivo):\n",
    "    \"\"\"\n",
    "    Decidimos si continuar con ese nodo o no. Si es no se añade a la lista de ya explorados.\n",
    "    \"\"\"\n",
    "\n",
    "    cota_max, cota_min = calcular_cotas(nodo)\n",
    "    \n",
    "    if cota_max > objetivo and cota_min < objetivo:\n",
    "        print(\"Continuar, cotas: \", cota_max, cota_min)\n",
    "        return True, lista\n",
    "\n",
    "    else:\n",
    "        print(\"Atrás, cotas: \", cota_max, cota_min)\n",
    "        lista.append(nodo)\n",
    "        return False, lista\n",
    "\n",
    "\n",
    "def ramif_y_poda(objetivo, nodo=None, lista = [], cifras = cifras, operaciones = operaciones, contador_repeticiones = 0):\n",
    "    \"\"\"\n",
    "    Funcion principal recursiva\n",
    "    \"\"\"\n",
    "    if contador_repeticiones > 7: #Si no encontramos la solucion por ese camino volvemos a empezar\n",
    "        return ramif_y_poda(objetivo = objetivo, nodo=None, lista = lista, cifras = cifras, operaciones = operaciones, contador_repeticiones = 0)\n",
    "        \n",
    "    # 1. Generar nodo a partir del que llega.\n",
    "    nuevo_nodo = generar_nodo(nodo)\n",
    "    print(\"Nuevo nodo: \", nuevo_nodo)\n",
    "    \n",
    "    if nuevo_nodo in lista: # Si está en la lista no lo exploramos\n",
    "        contador_repeticiones += 1\n",
    "        return ramif_y_poda(objetivo = objetivo, nodo = nodo, lista = lista, cifras = cifras, operaciones = operaciones, contador_repeticiones = contador_repeticiones)\n",
    "        \n",
    "    if len(nuevo_nodo) == 9: # Si ya tenemos los 9 elementos evaluamos si es la solucion\n",
    "        if eval(nuevo_nodo) == objetivo:\n",
    "            return nuevo_nodo\n",
    "        else: # Si no es se añade a la lista y se vuelve atrás\n",
    "            lista.append(nuevo_nodo) \n",
    "            return ramif_y_poda(objetivo = objetivo, nodo = nodo, lista = lista, cifras = cifras, operaciones = operaciones, contador_repeticiones = contador_repeticiones)\n",
    "    \n",
    "    # Si el nodo no tiene todos los elementos se evaluan sus cotas y se decide si continuar o volver atrás\n",
    "    continuar, lista = evaluar(nuevo_nodo, lista, objetivo)\n",
    "    if continuar:\n",
    "        return ramif_y_poda(objetivo = objetivo, nodo = nuevo_nodo, lista = lista, cifras = cifras, operaciones = operaciones, contador_repeticiones = contador_repeticiones)\n",
    "    else:\n",
    "        return ramif_y_poda(objetivo = objetivo, nodo = nodo, lista = lista, cifras = cifras, operaciones = operaciones, contador_repeticiones = contador_repeticiones)\n",
    "       "
   ]
  },
  {
   "cell_type": "code",
   "execution_count": 159,
   "metadata": {},
   "outputs": [
    {
     "name": "stdout",
     "output_type": "stream",
     "text": [
      "Nuevo nodo:  9*4\n",
      "Atrás, cotas:  44 28\n",
      "Nuevo nodo:  7-9\n",
      "Continuar, cotas:  6 -65\n",
      "Nuevo nodo:  7-9/6\n",
      "Atrás, cotas:  13.5 5.5\n",
      "Nuevo nodo:  7-9+3\n",
      "Atrás, cotas:  22 -1.625\n",
      "Nuevo nodo:  7-9*3\n",
      "Continuar, cotas:  -12 -20\n",
      "Nuevo nodo:  7-9*3+1\n",
      "Atrás, cotas:  -19.875 -19\n",
      "Nuevo nodo:  7-9*3/2\n",
      "Atrás, cotas:  1.5 -6.5\n",
      "Nuevo nodo:  7-9*3/4\n",
      "Atrás, cotas:  8.25 0.25\n",
      "Nuevo nodo:  7-9*3+2\n",
      "Atrás, cotas:  -19.75 -18\n",
      "Nuevo nodo:  7-9*3+8\n",
      "Atrás, cotas:  -18.666666666666668 -12\n",
      "Nuevo nodo:  7-9*3+5\n",
      "Atrás, cotas:  -19.375 -15\n",
      "Nuevo nodo:  7-9*3/4\n",
      "Nuevo nodo:  7-9*3+1\n",
      "Nuevo nodo:  7-9*3/5\n",
      "Atrás, cotas:  9.6 1.5999999999999996\n",
      "Nuevo nodo:  7-9*3+5\n",
      "Nuevo nodo:  7-9*3+8\n",
      "Nuevo nodo:  7-9*3+4\n",
      "Atrás, cotas:  -19.5 -16\n",
      "Nuevo nodo:  7-9*3+6\n",
      "Atrás, cotas:  -19.25 -14\n",
      "Nuevo nodo:  7-9*3+5\n",
      "Nuevo nodo:  7-9*3+6\n",
      "Nuevo nodo:  7-9*3/1\n",
      "Continuar, cotas:  -12.0 -20.0\n",
      "Nuevo nodo:  7-9*3/1+2\n",
      "Nuevo nodo:  7-9*3/1+6\n",
      "\n",
      "RESULTADO 7-9*3/1+6\n",
      "Wall time: 8.98 ms\n"
     ]
    }
   ],
   "source": [
    "%%time\n",
    " \n",
    "cifras = [\"1\",\"2\",\"3\",\"4\",\"5\",\"6\",\"7\",\"8\",\"9\"]\n",
    "operaciones = [\"+\",\"-\",\"*\",\"/\"]\n",
    "\n",
    "resultado = ramif_y_poda(-14, nodo=None, lista = [], cifras = cifras, operaciones = operaciones, contador_repeticiones = 0)\n",
    "print(\"\\nRESULTADO\", resultado)"
   ]
  },
  {
   "cell_type": "markdown",
   "metadata": {},
   "source": [
    "Al principio pensaba que podía fallar esta aproximación ya que el hecho de comenzar con un nodo aleatorio e ir moviendote, aunque las cotas máxima y mínima estén por encima y debajo de tu objetivo respectivamente, para este problema en concreto puede no existir la solución. De hecho, al principio me daba error por exceso de recursividad ya que aunque tengo la lista de nodos ya explorados para evitarlos, simplemente se volvía a llamar la función con el mismo nodo y se repetían sin que se pudiese salir de ese primer nodo que era incompatible con la solución. El remedio a ese problema ha sido colocar un contador, y si veo que se ha quedado atascado con ese nodo inicial y en esa rama simplemente vuelvo a empezar con otro nodo.\n",
    "\n",
    "\n"
   ]
  },
  {
   "cell_type": "markdown",
   "metadata": {},
   "source": [
    "Y como vemos...\n",
    "#### Seguro que hay formas más eficientes, pero funciona sorprendentemente bien!!!!\n",
    "\n",
    "**Recordamos que el método de fuerza bruta tenía un mínimo de 80ms en las situaciones más favorables y 4s en las más desfavorables. En el caso de mi solución vemos que si tenemos suerte al elegir el primer nodo podemos llegar a la solución en <10ms y en casos con menos suerte unos 100-200ms. Esto es una mejora sustancial!** \n",
    "\n",
    "\n",
    "Una de las mejoras claras que veo es en la función de determinar las cotas. Desde luego no es lo ideal ya que puede ser que con otro orden de operadores ese nodo sea también llegue a la solución. Por el momento he usado esa aproximación, que podemos considerar casi voraz, donde tomamos que para un nodo positivo si lo sumo o lo multiplico por el máximo de las cifras restantes esta es su cota máxima y si lo divido o resto por esa misma cifra es su cota mínima. Es una primera aproximación que como vemos funciona. He pensado en mejorarlo empleando una forma más sofisticada.\n",
    "\n",
    "También soy consciente de que no es un algoritmo de ramificación y poda \"de libro\". Realmente tiene cierta parte de búsqueda heurística, ya que no exploro y acoto todos los nodos hijos de cada nodo, es decir no estoy podando un árbol completo ya que soy consciente de que puede no estar la solución en el mismo. Por ello he introducido la parte de deshechar un nodo rápidamente si veo que se alarga la búsqueda con él y he introducido un componente aleatorio en la generación de los nodos.\n"
   ]
  },
  {
   "cell_type": "markdown",
   "metadata": {
    "id": "eGDB4K6uk1iN"
   },
   "source": [
    "### *Calcula la complejidad del algoritmo "
   ]
  },
  {
   "cell_type": "markdown",
   "metadata": {
    "id": "NhpTh_BPk1ms"
   },
   "source": [
    "No estoy tan seguro de cómo ha mejorado la complejidad. No tenemos un algoritmo determinista, lo rápido o lento que encontremos la solución va a depender de la suerte que tengamos escogiendo los nodos. Lo bueno es que tenemos la lista de todas aquellas posibilidades que ya hemos probado, y si un nodo inicial no ha funcionado ya no volveremos a intentarlo.\n",
    "\n",
    "Dado que vamos eliminando posibilidades de nodos iniciales y estamos explorando un árbol creo que la complejidad es **exponencial**, que es el tipo de complejidades que vemos en otros algoritmos recursivos. $O(m^n)$\n",
    " "
   ]
  },
  {
   "cell_type": "markdown",
   "metadata": {
    "id": "3M6QjTsSkmYe"
   },
   "source": [
    "### Según el problema (y tenga sentido), diseña un juego de datos de entrada aleatorios"
   ]
  },
  {
   "cell_type": "markdown",
   "metadata": {
    "id": "Jc3_OlyNkvjZ"
   },
   "source": [
    "No creo que en este caso aplique esta pregunta. Si mantenemos las restricciones de número de cifras y operaciones el problema es el mismo."
   ]
  },
  {
   "cell_type": "markdown",
   "metadata": {
    "id": "zy5ZROmjlGo1"
   },
   "source": [
    "### Aplica el algoritmo al juego de datos generado"
   ]
  },
  {
   "cell_type": "markdown",
   "metadata": {},
   "source": [
    "Voy a añadir algo como un operador exponencial y probamos, lo hago al final del cuaderno ya que no entra dentro del objetivo trabajo realmente y asi es más fácil de seguir lo que importa de cara a la evaluación."
   ]
  },
  {
   "cell_type": "markdown",
   "metadata": {
    "id": "eTFWUJQrtGcv"
   },
   "source": [
    "### Enumera las referencias que has utilizado(si ha sido necesario) para llevar a cabo el trabajo"
   ]
  },
  {
   "cell_type": "markdown",
   "metadata": {
    "id": "YKQ_mRBttWsP"
   },
   "source": [
    "itertools permutations: https://docs.python.org/3/library/itertools.html#itertools.permutations"
   ]
  },
  {
   "cell_type": "markdown",
   "metadata": {
    "id": "kAkDPUyRtYyH"
   },
   "source": [
    "### Describe brevemente las lineas de como crees que es posible avanzar en el estudio del problema. Ten en cuenta incluso posibles variaciones del problema y/o variaciones al alza del tamaño"
   ]
  },
  {
   "cell_type": "markdown",
   "metadata": {
    "id": "IE0uZmo-tZu-"
   },
   "source": [
    "Como ya he comentado mi primer paso para mejorar sería cambiar el método de calcular las cotas por algo más sofisticado.\n",
    "\n",
    "Otra de las aproximaciones a resolverlo que quizá mejore el rendimiento podría ser un algoritmo genético, donde fuesemos creando candidatos y cruzándolos y mutándolos. Al final la forma de modelar un individuo en este problema es muy sencilla ya que simplemente es un string que cumple una serie de normas, y la función de evaluación es aún más sencilla con el método eval(). \n",
    "\n",
    "Se podría complicar mucho más el problema añadiendo más números, aunque sean de dos cifras, o decimales. Y sobre todo sería muy sencillo añadir operaciones como la exponencial o la raíz cuadrada. De ese modo tendríamos un espacio de soluciones muchísimo más grande y por fuerza bruta sería mucho más costoso y probablemente inabarcable con un ordenador doméstico."
   ]
  },
  {
   "cell_type": "markdown",
   "metadata": {},
   "source": [
    "## Probamos a añadir datos de entrada más complejos\n"
   ]
  },
  {
   "cell_type": "markdown",
   "metadata": {},
   "source": [
    "He probado añadiendo el operador exponencial, pero esta es una operación de por sí costosa para la cpu y se extiende demasiado en el tiempo. Voy a probar a añadir simplemente la cifra 1/2. Además para añadir el exponencial he tenido que modificar la función de calcular cotas y añadir calculos de exponenciales en el proceso lo hace mucho más complejo para la cpu.\n",
    "\n",
    "Veamos que pasa añadiendo el 0.5:"
   ]
  },
  {
   "cell_type": "code",
   "execution_count": 24,
   "metadata": {},
   "outputs": [
    {
     "name": "stdout",
     "output_type": "stream",
     "text": [
      "Nuevo nodo:  6+0.5\n",
      "Atrás, cotas:  10.5 6.055555555555555\n",
      "Nuevo nodo:  6+2\n",
      "Atrás, cotas:  24 6.222222222222222\n",
      "Nuevo nodo:  5/2\n",
      "Atrás, cotas:  22.5 -6.5\n",
      "Nuevo nodo:  1-5\n",
      "Atrás, cotas:  0.4444444444444444 -44\n",
      "Nuevo nodo:  1*0.5\n",
      "Atrás, cotas:  9.5 0.05555555555555555\n",
      "Nuevo nodo:  5/2\n",
      "Nuevo nodo:  7*1\n",
      "Atrás, cotas:  16 0.7777777777777778\n",
      "Nuevo nodo:  2+3\n",
      "Atrás, cotas:  29 2.3333333333333335\n",
      "Nuevo nodo:  6*3\n",
      "Atrás, cotas:  27 2.0\n",
      "Nuevo nodo:  7+1\n",
      "Atrás, cotas:  16 7.111111111111111\n",
      "Nuevo nodo:  0.5+5\n",
      "Continuar, cotas:  45.5 1.0555555555555556\n",
      "Nuevo nodo:  0.5+5-6\n",
      "Atrás, cotas:  4.833333333333333 -48.5\n",
      "Nuevo nodo:  0.5+5/6\n",
      "Atrás, cotas:  8.0 -7.666666666666666\n",
      "Nuevo nodo:  0.5+5-2\n",
      "Atrás, cotas:  -12.5 5.277777777777778\n",
      "Nuevo nodo:  0.5+5/0.5\n",
      "Nuevo nodo:  0.5+5/7\n",
      "Atrás, cotas:  6.928571428571429 -7.785714285714286\n",
      "Nuevo nodo:  0.5+5*1\n",
      "Atrás, cotas:  5.5 1.0555555555555556\n",
      "Nuevo nodo:  0.5+5/9\n",
      "Atrás, cotas:  4.944444444444445 -6.944444444444445\n",
      "Nuevo nodo:  0.5+5-3\n",
      "Atrás, cotas:  -21.5 5.166666666666667\n",
      "Nuevo nodo:  0.5+5/3\n",
      "Atrás, cotas:  15.5 -6.833333333333333\n",
      "Nuevo nodo:  0.5+5-1\n",
      "Atrás, cotas:  -3.5 5.388888888888889\n",
      "Nuevo nodo:  0.5+5/3\n",
      "Nuevo nodo:  0.5+5*8\n",
      "Continuar, cotas:  40.5 4.944444444444445\n",
      "Nuevo nodo:  0.5+5*8-3\n",
      "Nuevo nodo:  0.5+5*8/2\n",
      "Nuevo nodo:  0.5+5*8/9\n",
      "Nuevo nodo:  0.5+5*8-6\n",
      "\n",
      "RESULTADO 0.5+5*8-6\n",
      "Wall time: 7.98 ms\n"
     ]
    }
   ],
   "source": [
    "%%time\n",
    "cifras = [\"1\",\"2\",\"3\",\"4\",\"5\",\"6\",\"7\",\"8\",\"9\",\"0.5\"]\n",
    "operaciones = [\"+\",\"-\",\"*\",\"/\"]\n",
    "\n",
    "resultado = ramif_y_poda(34.5, nodo=None, lista = [], cifras = cifras, operaciones = operaciones, contador_repeticiones = 0)\n",
    "print(\"\\nRESULTADO\", resultado)"
   ]
  },
  {
   "cell_type": "markdown",
   "metadata": {},
   "source": [
    "Vemos así que el algoritmo funciona perfectamente añadiendo elementos a los datos de entrada. Sin embargo como ya he dicho añadir una operación nueva como la exponencial requiere modificar también la función de calcular cotas y le toma mucho tiempo terminar."
   ]
  },
  {
   "cell_type": "code",
   "execution_count": null,
   "metadata": {},
   "outputs": [],
   "source": [
    "cifras = [\"1\",\"2\",\"3\",\"4\",\"5\",\"6\",\"7\",\"8\",\"9\"]\n",
    "# operaciones = [\"+\",\"-\",\"*\",\"/\", \"**\"]\n",
    "\n",
    "resultado = ramif_y_poda(240, nodo=None, lista = [], cifras = cifras, operaciones = operaciones, contador_repeticiones = 0)\n",
    "print(\"\\nRESULTADO\", resultado)"
   ]
  }
 ],
 "metadata": {
  "colab": {
   "collapsed_sections": [],
   "name": "Seminario - Algoritmos.ipynb",
   "provenance": []
  },
  "kernelspec": {
   "display_name": "Python 3 (ipykernel)",
   "language": "python",
   "name": "python3"
  },
  "language_info": {
   "codemirror_mode": {
    "name": "ipython",
    "version": 3
   },
   "file_extension": ".py",
   "mimetype": "text/x-python",
   "name": "python",
   "nbconvert_exporter": "python",
   "pygments_lexer": "ipython3",
   "version": "3.7.11"
  }
 },
 "nbformat": 4,
 "nbformat_minor": 1
}
