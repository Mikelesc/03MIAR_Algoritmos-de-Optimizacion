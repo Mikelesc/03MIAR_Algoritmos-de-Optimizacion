{
 "cells": [
  {
   "cell_type": "markdown",
   "metadata": {
    "id": "hVbXYX-RfPWh"
   },
   "source": [
    "# Algoritmos de optimización - Trabajo Práctico\n",
    "### Nombre y Apellidos: Mikel Escobar de Carlos \n",
    "Url: https://github.com/.\n",
    "## Problema 3: Combinar cifras y operaciones\n",
    "\n",
    "Descripción del problema:\n",
    "\n",
    "**Disponemos de las 9 cifras del 1 al 9 (excluimos el cero) y de los 4 signos básicos de las\n",
    "operaciones fundamentales: suma(+), resta(-), multiplicación(*) y división(/). Debemos combinarlos alternativamente sin repetir ninguno de ellos para obtener una cantidad\n",
    "dada. Un ejemplo sería para obtener el 4:**\n",
    "\n",
    "**4+2-6/3*1 = 4**\n",
    "\n",
    "\n",
    "\n",
    "                                        "
   ]
  },
  {
   "cell_type": "markdown",
   "metadata": {
    "id": "3_-exlrTgLd-"
   },
   "source": [
    "### *¿Cuantas posibilidades hay sin tener en cuenta las restricciones? ¿Cuantas posibilidades hay teniendo en cuenta todas las restricciones."
   ]
  },
  {
   "cell_type": "markdown",
   "metadata": {
    "id": "WfCUqJyKhPcw"
   },
   "source": [
    "Sin tener en cuenta las restricciones podemos repetir tanto números como operaciones, luego tenemos 13 elementos (9 cifras y 4 operaciones) y en caso de que tampoco haya restricción en el número de elementos a utilizar habría **infinitas** combinaciones. Si consideramos que el número máximo de elementos sigue siendo 9, pero con repetición y sin importar si es una cifra o una operación, entonces tendremos el número de variaciones con repetición. Cada vez que escojamos uno de los 13 elementos podemos combinarlo con uno cualquiera de los 13, luego tendríamos **13^9 posibilidades**, aunque esto daría lugar a expresiones sin sentido como tener 9 signos de multiplicación. Para que tuviese más sentido podríamos imponer que haya que intercalar cifras y operaciones, pero en ese caso estamos ya casi resolviendo el problema con restricciones.\n",
    "\n"
   ]
  },
  {
   "cell_type": "markdown",
   "metadata": {
    "id": "iq6Fe32MgpDX"
   },
   "source": [
    "Teniendo en cuenta todas las restricciones sí que tenemos un espacio de posibilidades acotado. Al no poder repetir ni cifras ni operadores y tener que combinarlos de forma alterna, tendremos las posibles variaciones sin repetición de cifras multiplicadas por las posibles variaciones sin repetición de operaciones:\n",
    "\n",
    "$V_m^n= m ·(m-1) ·(m-2) ··· (m - n + 1) = \\frac{m!}{(m-n)!}$\n",
    "\n",
    "* Las variaciones de las 4 operaciones cogiendo las 4 eqivalen a : $4!$\n",
    "\n",
    "* Las variaciones de las 9 cifras cogiendo 5 de ellas equivalen a: $9!/4!$\n",
    "\n",
    "Luego en total tenemos:\n",
    "\n",
    "Posibilidades = $\\frac{9!}{4!}\\cdot\\frac{4!}{0!}$ = 9! = **362880**\n"
   ]
  },
  {
   "cell_type": "markdown",
   "metadata": {
    "id": "dzynfVJahHoY"
   },
   "source": [
    "### * ¿Cual es la estructura de datos que mejor se adapta al problema? Argumentalo.(Es posible que hayas elegido una al principio y veas la necesidad de cambiar, argumentalo)\n"
   ]
  },
  {
   "cell_type": "markdown",
   "metadata": {
    "id": "xFIJrOwKi2Ti"
   },
   "source": [
    "Bueno así a priori lo que veo es que tenemos dos listas de elementos. Una lista (o un set ya que no repetimos elementos) con las 9 cifras y otra lista con las 4 operaciones. De momento comenzaré con esta estructura de datos."
   ]
  },
  {
   "cell_type": "markdown",
   "metadata": {},
   "source": [
    "### *¿Cual es la función objetivo?"
   ]
  },
  {
   "cell_type": "markdown",
   "metadata": {},
   "source": [
    "Buscamos construir una expresión aritmética cuya evaluación sea igual a la cantidad dada, es decir eval(expresion) - cantidad = 0"
   ]
  },
  {
   "cell_type": "markdown",
   "metadata": {
    "id": "7Z9U2W7bi-XS"
   },
   "source": [
    "\n",
    "### *¿Es un problema de maximización o minimización?"
   ]
  },
  {
   "cell_type": "markdown",
   "metadata": {
    "id": "hBalWLM7j1_d"
   },
   "source": [
    "De primeras parece un problema de búsqueda, no estoy maximizando ni minimizando una función, simplemente busco (si existe) la combinación que cumple las restricciones."
   ]
  },
  {
   "cell_type": "markdown",
   "metadata": {
    "id": "rlnTYgY1j6I2"
   },
   "source": [
    "### Diseña un algoritmo para resolver el problema por fuerza bruta"
   ]
  },
  {
   "cell_type": "markdown",
   "metadata": {
    "id": "CJb5sQ0qkENy"
   },
   "source": [
    "Por fuerza bruta podemos simplemente realizar todas las combinaciones posibles y evaluarlas hasta encontrar aquella que satisfaga todas las condiciones. Vamos a echar mano de itertools para calcularlas todas. El método permutations recible una lista de elementos de tamaño m y devuelve combinaciones de tamaño n de esos elementos sin repetición."
   ]
  },
  {
   "cell_type": "code",
   "execution_count": 32,
   "metadata": {},
   "outputs": [
    {
     "data": {
      "text/plain": [
       "'No se ha encontrado expresión para 140'"
      ]
     },
     "execution_count": 32,
     "metadata": {},
     "output_type": "execute_result"
    }
   ],
   "source": [
    "from itertools import permutations\n",
    "from functools import reduce\n",
    "import operator\n",
    "\n",
    "cifras = [\"1\",\"2\",\"3\",\"4\",\"5\",\"6\",\"7\",\"8\",\"9\"]\n",
    "operaciones = [\"+\",\"-\",\"*\",\"/\"]\n",
    "\n",
    "def fuerza_bruta(objetivo, cifras = cifras, operaciones = operaciones):\n",
    "    for numeros in permutations(cifras, len(operaciones)+1):\n",
    "        for signos in permutations(operaciones):\n",
    "            expresion_lst = [x+y for x, y in zip([\"\"] + list(signos),numeros)]\n",
    "            expresion = \"\".join(expresion_lst)\n",
    "            if eval(expresion) == objetivo:\n",
    "                return expresion\n",
    "    return f\"No se ha encontrado expresión para {objetivo}\"\n",
    "\n",
    "fuerza_bruta(140)"
   ]
  },
  {
   "cell_type": "markdown",
   "metadata": {},
   "source": [
    "Lo podemos modificar brevemente para analizar cuales son los valores máximo y mínimo que podemos obtener:"
   ]
  },
  {
   "cell_type": "code",
   "execution_count": 30,
   "metadata": {},
   "outputs": [
    {
     "data": {
      "text/plain": [
       "(78.83333333333333, -70.71428571428571)"
      ]
     },
     "execution_count": 30,
     "metadata": {},
     "output_type": "execute_result"
    }
   ],
   "source": [
    "def fuerza_bruta(cifras = cifras, operaciones = operaciones):\n",
    "    lista = []\n",
    "    for numeros in permutations(cifras, len(operaciones)+1):\n",
    "        for signos in permutations(operaciones):\n",
    "            expresion_lst = [x+y for x, y in zip([\"\"] + list(signos),numeros)]\n",
    "            expresion = \"\".join(expresion_lst)\n",
    "            lista.append(eval(expresion))\n",
    "    return max(lista), min(lista)\n",
    "\n",
    "fuerza_bruta()"
   ]
  },
  {
   "cell_type": "markdown",
   "metadata": {
    "id": "tgrnsC2nkFa8"
   },
   "source": [
    "### Calcula la complejidad del algoritmo por fuerza bruta"
   ]
  },
  {
   "cell_type": "markdown",
   "metadata": {
    "id": "9eUd3xwckP68"
   },
   "source": [
    "Como vemos vamos recorriendo todas las combinaciones posibles tal que:\n",
    "\n",
    "$\\frac{m!}{(m-(n+1))!} * n!$   (En este caso m = 9 y n = 4)\n",
    "\n",
    "Podríamos estimar que la complejidad es $O(m!·n!)$. En este caso especifico. Para un algoritmo con este enfoque a un problema que busque combinaciones en una lista de elementos podemos simplemente decir: $O(N!)$, donde N será el tamaño de la lista.\n",
    "\n",
    "En nuestro problema, si tuviesemos conjuntos de tamaño similar podríamos decir: $O(n!^2)$ ya que tenemos dos listas.\n",
    "\n",
    "A primera vista uno puede caer en pensar que es $O(n^2)$  ya que simplemente estamos recorriendo dos listas en el código (dos bucles anidados), pero el método **permutations** está haciéndonos el trabajo de calcular todas las combinaciones.\n",
    " "
   ]
  },
  {
   "cell_type": "markdown",
   "metadata": {
    "id": "txbrmLmskReM"
   },
   "source": [
    "### *Diseña un algoritmo que mejore la complejidad del algortimo por fuerza bruta. Argumenta porque crees que mejora el algoritmo por fuerza bruta"
   ]
  },
  {
   "cell_type": "markdown",
   "metadata": {
    "id": "hLrVwt5QkZPD"
   },
   "source": [
    "Respuesta"
   ]
  },
  {
   "cell_type": "code",
   "execution_count": null,
   "metadata": {
    "id": "m1eyM21Vkabg"
   },
   "outputs": [],
   "source": []
  },
  {
   "cell_type": "markdown",
   "metadata": {
    "id": "eGDB4K6uk1iN"
   },
   "source": [
    "### *Calcula la complejidad del algoritmo "
   ]
  },
  {
   "cell_type": "markdown",
   "metadata": {
    "id": "NhpTh_BPk1ms"
   },
   "source": [
    "Respuesta"
   ]
  },
  {
   "cell_type": "code",
   "execution_count": null,
   "metadata": {
    "id": "nREzhkStlCq8"
   },
   "outputs": [],
   "source": []
  },
  {
   "cell_type": "markdown",
   "metadata": {
    "id": "3M6QjTsSkmYe"
   },
   "source": [
    "### Según el problema (y tenga sentido), diseña un juego de datos de entrada aleatorios"
   ]
  },
  {
   "cell_type": "markdown",
   "metadata": {
    "id": "Jc3_OlyNkvjZ"
   },
   "source": [
    "Respuesta"
   ]
  },
  {
   "cell_type": "code",
   "execution_count": null,
   "metadata": {
    "id": "sJ-N2etjkyWc"
   },
   "outputs": [],
   "source": []
  },
  {
   "cell_type": "markdown",
   "metadata": {
    "id": "zy5ZROmjlGo1"
   },
   "source": [
    "### Aplica el algoritmo al juego de datos generado"
   ]
  },
  {
   "cell_type": "markdown",
   "metadata": {
    "id": "_Cmj-PVylMsa"
   },
   "source": [
    "Respuesta"
   ]
  },
  {
   "cell_type": "code",
   "execution_count": null,
   "metadata": {
    "id": "Jkx8GeiYlUz1"
   },
   "outputs": [],
   "source": []
  },
  {
   "cell_type": "markdown",
   "metadata": {
    "id": "eTFWUJQrtGcv"
   },
   "source": [
    "### Enumera las referencias que has utilizado(si ha sido necesario) para llevar a cabo el trabajo"
   ]
  },
  {
   "cell_type": "markdown",
   "metadata": {
    "id": "YKQ_mRBttWsP"
   },
   "source": [
    "itertools permutations: https://docs.python.org/3/library/itertools.html#itertools.permutations"
   ]
  },
  {
   "cell_type": "markdown",
   "metadata": {
    "id": "kAkDPUyRtYyH"
   },
   "source": [
    "### Describe brevemente las lineas de como crees que es posible avanzar en el estudio del problema. Ten en cuenta incluso posibles variaciones del problema y/o variaciones al alza del tamaño"
   ]
  },
  {
   "cell_type": "markdown",
   "metadata": {
    "id": "IE0uZmo-tZu-"
   },
   "source": [
    "Respuesta"
   ]
  }
 ],
 "metadata": {
  "colab": {
   "collapsed_sections": [],
   "name": "Seminario - Algoritmos.ipynb",
   "provenance": []
  },
  "kernelspec": {
   "display_name": "Python 3 (ipykernel)",
   "language": "python",
   "name": "python3"
  },
  "language_info": {
   "codemirror_mode": {
    "name": "ipython",
    "version": 3
   },
   "file_extension": ".py",
   "mimetype": "text/x-python",
   "name": "python",
   "nbconvert_exporter": "python",
   "pygments_lexer": "ipython3",
   "version": "3.7.11"
  }
 },
 "nbformat": 4,
 "nbformat_minor": 1
}
