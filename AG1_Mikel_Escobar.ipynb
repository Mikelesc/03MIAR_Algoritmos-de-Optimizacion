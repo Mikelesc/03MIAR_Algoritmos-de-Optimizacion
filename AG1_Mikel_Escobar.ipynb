{
 "cells": [
  {
   "cell_type": "markdown",
   "metadata": {
    "id": "GG2D6vLdYwwy"
   },
   "source": [
    "# Actividad Guiada 1 de Algoritmos de Optimizacion\n",
    "\n",
    "## Nombre: Mikel Escobar de Carlos\n",
    "\n",
    "https://colab.research.google.com/drive/1DXb-6QgQTJgrWifNVWz_HJr11f6WnDeO?usp=sharing\n",
    "\n",
    "https://github.com/Mikelesc/03MIAR_Algoritmos-de-Optimizacion"
   ]
  },
  {
   "cell_type": "markdown",
   "metadata": {},
   "source": [
    "### 1. Torres de Hanoi - Divide y venceras"
   ]
  },
  {
   "cell_type": "code",
   "execution_count": 12,
   "metadata": {
    "id": "rTiqLuX2ZKuL"
   },
   "outputs": [
    {
     "name": "stdout",
     "output_type": "stream",
     "text": [
      "Lleva la ficha desde 1 hasta 2\n",
      "Lleva la ficha desde 1 hasta 3\n",
      "Lleva la ficha desde 2 hasta 3\n",
      "Lleva la ficha desde 1 hasta 2\n",
      "Lleva la ficha desde 3 hasta 1\n",
      "Lleva la ficha desde 3 hasta 2\n",
      "Lleva la ficha desde 1 hasta 2\n",
      "Lleva la ficha desde 1 hasta 3\n",
      "Lleva la ficha desde 2 hasta 3\n",
      "Lleva la ficha desde 2 hasta 1\n",
      "Lleva la ficha desde 3 hasta 1\n",
      "Lleva la ficha desde 2 hasta 3\n",
      "Lleva la ficha desde 1 hasta 2\n",
      "Lleva la ficha desde 1 hasta 3\n",
      "Lleva la ficha desde 2 hasta 3\n"
     ]
    }
   ],
   "source": [
    "##################################################################\n",
    "def Torres_Hanoi(N, desde, hasta):\n",
    "    \"\"\" \n",
    "      N - Nº de fichas\n",
    "      desde - torre inicial\n",
    "      hasta - torre final\n",
    "    \"\"\"\n",
    "    if N==1 :\n",
    "        print(\"Lleva la ficha desde \" + str(desde) + \" hasta \" + str(hasta))\n",
    "\n",
    "    else:\n",
    "        Torres_Hanoi(N-1, desde, 6-desde-hasta)\n",
    "        print(\"Lleva la ficha desde \" + str(desde) + \" hasta \" + str(hasta))\n",
    "        Torres_Hanoi(N-1, 6-desde-hasta,  hasta)\n",
    "\n",
    "N_FICHAS = 4\n",
    "Torres_Hanoi(N_FICHAS, 1, 3) # Tenemos siempre 3 torres, luego vamos de 1 a 3.\n",
    "################################################################"
   ]
  },
  {
   "cell_type": "markdown",
   "metadata": {
    "id": "UTL6wiczQVDA"
   },
   "source": [
    "###  2. Cambio de monedas - Técnica voraz"
   ]
  },
  {
   "cell_type": "code",
   "execution_count": 18,
   "metadata": {
    "colab": {
     "base_uri": "https://localhost:8080/"
    },
    "id": "YwBudj2hYoMR",
    "outputId": "c8c01a8e-522b-49df-a89d-0a7485775df9"
   },
   "outputs": [
    {
     "data": {
      "text/plain": [
       "[6, 1, 1, 1]"
      ]
     },
     "execution_count": 18,
     "metadata": {},
     "output_type": "execute_result"
    }
   ],
   "source": [
    "################################################################\n",
    "SISTEMA = [12, 5 ,2, 1]\n",
    "################################################################\n",
    "def cambio_monedas(CANTIDAD,SISTEMA):\n",
    "    SOLUCION = [0]*len(SISTEMA)\n",
    "    ValorAcumulado = 0\n",
    "\n",
    "    for i,valor in enumerate(SISTEMA):\n",
    "        monedas = (CANTIDAD-ValorAcumulado)//valor\n",
    "        SOLUCION[i] = monedas\n",
    "        ValorAcumulado = ValorAcumulado + monedas*valor\n",
    "\n",
    "    if CANTIDAD == ValorAcumulado:\n",
    "        return SOLUCION\n",
    "\n",
    "    print(\"No es posible encontrar solucion\")\n",
    "    \n",
    "    \n",
    "cambio_monedas(80,SISTEMA)\n",
    "\n",
    "    \n",
    "###############################################################"
   ]
  },
  {
   "cell_type": "markdown",
   "metadata": {
    "id": "9toJ4WjhQUNj"
   },
   "source": [
    "### 3. N Reinas - Vuelta Atrás"
   ]
  },
  {
   "cell_type": "code",
   "execution_count": 45,
   "metadata": {
    "colab": {
     "base_uri": "https://localhost:8080/"
    },
    "id": "H4Iwt2XRZTFr",
    "outputId": "a175bf44-9517-4ece-b03e-f287aa98ff0f"
   },
   "outputs": [
    {
     "name": "stdout",
     "output_type": "stream",
     "text": [
      "Una solucion es:\n",
      "[2, 4, 1, 3]\n",
      "\n",
      " -  -  X  - \n",
      " X  -  -  - \n",
      " -  -  -  X \n",
      " -  X  -  - \n",
      "\n",
      "Una solucion es:\n",
      "[3, 1, 4, 2]\n",
      "\n",
      " -  X  -  - \n",
      " -  -  -  X \n",
      " X  -  -  - \n",
      " -  -  X  - \n",
      "\n"
     ]
    }
   ],
   "source": [
    "def es_prometedora(SOLUCION,etapa):\n",
    "    \"\"\"\n",
    "    Verifica que en la solución parcial no hay amenzas entre reinas\n",
    "    \"\"\"\n",
    "    # print(SOLUCION)\n",
    "    # Si la solución tiene dos valores iguales no es valida => Dos reinas en la misma fila\n",
    "    for i in range(etapa+1):\n",
    "        if SOLUCION.count(SOLUCION[i]) > 1:       \n",
    "            return False\n",
    "    #Verifica las diagonales\n",
    "        for j in range(i+1, etapa +1 ):\n",
    "            if abs(i-j) == abs(SOLUCION[i]-SOLUCION[j]) : return False\n",
    "    return True\n",
    "\n",
    "#Traduce la solución al tablero\n",
    "################################################################\n",
    "def escribe_solucion(S):\n",
    "    n = len(S)\n",
    "    for x in range(n):\n",
    "        print(\"\")\n",
    "        for i in range(n):\n",
    "            if S[i] == x+1:\n",
    "                print(\" X \" , end=\"\")\n",
    "            else:\n",
    "                print(\" - \", end=\"\")\n",
    "\n",
    "\n",
    "\n",
    "#Proceso principal de N-Reinas\n",
    "################################################################\n",
    "def reinas(N, solucion=[],etapa=0):\n",
    "    \"\"\"\n",
    "    N - tamaño del tablero\n",
    "    solucion - solucion parcial\n",
    "    etapa - n reinas en la solución parcial\n",
    "    \"\"\"\n",
    "    \n",
    "    if len(solucion) == 0:         # inicializamos con 0s\n",
    "        solucion = [0 for i in range(N) ]\n",
    "      \n",
    "    # Recorremos todas las reinas\n",
    "    for i in range(1, N+1):\n",
    "        solucion[etapa] = i\n",
    "        \n",
    "        if es_prometedora(solucion, etapa):\n",
    "            if etapa == N-1:\n",
    "                print(\"Una solucion es:\")\n",
    "                print(solucion)\n",
    "                escribe_solucion(solucion)\n",
    "                print(\"\\n\")\n",
    "            else:\n",
    "                reinas(N, solucion, etapa+1)\n",
    "        else:\n",
    "#             print(\"No prometedora\")\n",
    "            None\n",
    "\n",
    "    solucion[etapa] = 0\n",
    "\n",
    "\n",
    "reinas(4,solucion=[],etapa=0)"
   ]
  },
  {
   "cell_type": "code",
   "execution_count": 41,
   "metadata": {
    "colab": {
     "base_uri": "https://localhost:8080/"
    },
    "id": "eTZclKH9QV0R",
    "outputId": "5d8a8781-a0e6-4552-f441-ca9f7bbbb3a0"
   },
   "outputs": [
    {
     "name": "stdout",
     "output_type": "stream",
     "text": [
      "\n",
      " -  X  -  - \n",
      " -  -  -  X \n",
      " X  -  -  - \n",
      " -  -  X  - "
     ]
    }
   ],
   "source": [
    "escribe_solucion([3, 1, 4, 2])"
   ]
  },
  {
   "cell_type": "markdown",
   "metadata": {},
   "source": [
    "El problema: **Programación Dinámica. Viaje por el rio.** Se dejó para la AG2."
   ]
  },
  {
   "cell_type": "markdown",
   "metadata": {},
   "source": [
    "### 4. Distancia entre dos puntos"
   ]
  },
  {
   "cell_type": "markdown",
   "metadata": {},
   "source": [
    "#### Problema: Encontrar los dos puntos más cercanos\n",
    "\n",
    "Dado un conjunto de puntos se trata de encontrar los dos puntos más cercanos.\n",
    "Guía para aprendizaje:\n",
    "\n",
    "- Suponer en 1D, o sea, una lista de números:[3403, 4537, 9089, 9746, 7259, ….\n",
    "\n",
    "- Primer intento: Fuerza bruta\n",
    "\n",
    "- Calcular la complejidad. ¿Se puede mejorar?\n",
    "\n",
    "- Segundo intento. Aplicar Divide y Vencerás\n",
    "\n",
    "- Calcular la complejidad. ¿Se puede mejorar?\n",
    "\n",
    "- Extender el algoritmo a 2D: [(1122, 6175), ("
   ]
  },
  {
   "cell_type": "code",
   "execution_count": 8,
   "metadata": {},
   "outputs": [],
   "source": [
    "import random\n",
    "from numpy import inf\n",
    "import math"
   ]
  },
  {
   "cell_type": "markdown",
   "metadata": {},
   "source": [
    "### Fuerza bruta 1D"
   ]
  },
  {
   "cell_type": "code",
   "execution_count": 53,
   "metadata": {},
   "outputs": [
    {
     "name": "stdout",
     "output_type": "stream",
     "text": [
      "Los puntos mas cercanos son (8544, 8545) a distancia 1\n",
      "Wall time: 22.9 s\n"
     ]
    }
   ],
   "source": [
    "%%time\n",
    "def distancia_1d(a,b):\n",
    "    return abs(a-b)\n",
    "\n",
    "def min_dist_1d(lista):\n",
    "    dist_min = inf # Comenzamos con una distancia minima infinita\n",
    "    for punto_i in lista:\n",
    "        for punto_j in lista:\n",
    "            if punto_i == punto_j:\n",
    "                assert distancia_1d(punto_i, punto_j) == 0 # Un punto con el mismo esta distancia 0.\n",
    "                continue\n",
    "                \n",
    "            dist = distancia_1d(punto_i, punto_j) # Medimos distancia entre dos puntos\n",
    "            if dist < dist_min: # Si la distancia es menor que nuestro minimo la guardamos\n",
    "                dist_min = dist\n",
    "                cercanos = (punto_i, punto_j)\n",
    "\n",
    "    return cercanos, dist_min\n",
    "\n",
    "######################################################################\n",
    "\n",
    "lista_1d = [random.randrange(1,10000) for x in range(10000)] # Creamos lista aleatoria de puntos 1d\n",
    "\n",
    "results = min_dist_1d(lista_1d)\n",
    "print(f\"Los puntos mas cercanos son {results[0]} a distancia {results[1]}\")"
   ]
  },
  {
   "cell_type": "markdown",
   "metadata": {},
   "source": [
    "### Fuerza bruta 2D"
   ]
  },
  {
   "cell_type": "code",
   "execution_count": 81,
   "metadata": {},
   "outputs": [
    {
     "name": "stdout",
     "output_type": "stream",
     "text": [
      "Los puntos mas cercanos son ((2622, 1256), (2630, 1320)) a distancia 64.4980619863884\n"
     ]
    }
   ],
   "source": [
    "def distancia_2d(a, b): # Distancia euclídea en 2D\n",
    "    return math.sqrt(math.pow(a[0]-b[0],2) + math.pow(a[1]-b[1],2)) # Raiz cuadrada de los cuadrados de las diferencias de cada componente\n",
    "\n",
    "def min_dist_2d(lista):\n",
    "    dist_min = inf # Comenzamos con una distancia minima infinita\n",
    "    for punto_i in lista:\n",
    "        for punto_j in lista:\n",
    "            if punto_i == punto_j:\n",
    "                assert distancia_2d(punto_i, punto_j) == 0 # Un punto con el mismo esta distancia 0.\n",
    "                continue\n",
    "                \n",
    "            dist = distancia_2d(punto_i, punto_j) # Medimos distancia entre dos puntos\n",
    "            if dist < dist_min: # Si la distancia es menor que nuestro minimo la guardamos\n",
    "                dist_min = dist\n",
    "                cercanos = (punto_i, punto_j)\n",
    "\n",
    "    return cercanos, dist_min\n",
    "\n",
    "#######################################################################\n",
    "\n",
    "lista_2d = [(random.randrange(1,10000), random.randrange(1,10000)) for x in range(100)]\n",
    "results = min_dist_2d(lista_2d)\n",
    "print(f\"Los puntos mas cercanos son {results[0]} a distancia {results[1]}\")"
   ]
  },
  {
   "cell_type": "markdown",
   "metadata": {},
   "source": [
    "El orden de complejidad por fuerza bruta es $o(n^{2})$ ya que recorremos la lista una vez por cada item en la lista, luego n x n veces."
   ]
  },
  {
   "cell_type": "markdown",
   "metadata": {},
   "source": [
    "# Alternativa más rápida en 1D"
   ]
  },
  {
   "cell_type": "code",
   "execution_count": 62,
   "metadata": {},
   "outputs": [
    {
     "name": "stdout",
     "output_type": "stream",
     "text": [
      "Los puntos mas cercanos son (5, 6) a distancia 1\n",
      "Wall time: 19 ms\n"
     ]
    }
   ],
   "source": [
    "%%time\n",
    "def idea_1d(lista):\n",
    "    min_dist = inf\n",
    "    lista.sort()\n",
    "    for i in range(len(lista)):\n",
    "        d = distancia_1d(lista[i], lista[i+1])\n",
    "        if d < min_dist:\n",
    "            min_dist = d\n",
    "            puntos = (lista[i], lista[i+1])\n",
    "        elif d==1:\n",
    "            return (lista[i], lista[i+1]), d\n",
    "    return puntos, d\n",
    "\n",
    "\n",
    "lista_1d = [random.randrange(1,10000) for x in range(10000)] # Creamos lista aleatoria de puntos 1d\n",
    "results = idea_1d(lista_1d)\n",
    "print(f\"Los puntos mas cercanos son {results[0]} a distancia {results[1]}\")"
   ]
  },
  {
   "cell_type": "markdown",
   "metadata": {},
   "source": [
    "Le cuesta unos 20 ms para un tamaño de lista de 10.000 elementos respecto a los 20 SEGUNDOS por fuerza bruta."
   ]
  },
  {
   "cell_type": "markdown",
   "metadata": {},
   "source": [
    "La idea es ordenar la lista antes de comenzar a medir distancias, imagino que el método sort de python emplea un quicksort. De este modo como puntos en 1D son esencialmente puntos en una recta, podemos ir viendo la distancia de cada uno al siguiente, si la distancia es 1 en algún momento podemos parar. De este modo simplemente ordenamos con quicksort que es muy eficiente y es muy probable que si tenemos un número elevado de puntos pronto demos con dos a distancia 1. No calculamos todas las distancias entre todos que es una burrada. "
   ]
  },
  {
   "cell_type": "markdown",
   "metadata": {},
   "source": [
    "### Alternativa \"holística\" en 2D"
   ]
  },
  {
   "cell_type": "markdown",
   "metadata": {},
   "source": [
    "Voy a probar a calcular la distancia entre unos pocos puntos, y si algunos están suficientemente cerca, doy dichos puntos como solución. Analizando el comportamiento por fuerza bruta puedo intuir que si dos puntos están a una distancia menor que 150 estarán cerca de la solución optima."
   ]
  },
  {
   "cell_type": "code",
   "execution_count": 203,
   "metadata": {},
   "outputs": [
    {
     "name": "stdout",
     "output_type": "stream",
     "text": [
      "Los puntos mas cercanos son ((3567, 4293), (3327, 4358)) a distancia 248.64633518312712\n"
     ]
    }
   ],
   "source": [
    "# %%time\n",
    "def generar_intento(l):\n",
    "    i, j = random.randint(0,l), random.randint(0,l)\n",
    "    return i,j\n",
    "\n",
    "def suerte_2d(lista, intentos):\n",
    "    min_dist = inf\n",
    "    for intento in intentos:\n",
    "        if lista[intento[0]] == lista[intento[1]]:\n",
    "            continue\n",
    "        d = distancia_2d(lista[intento[0]], lista[intento[1]])\n",
    "        if d < min_dist:\n",
    "            min_dist = d\n",
    "            puntos = (lista[intento[0]], lista[intento[1]])\n",
    "        if d<5:\n",
    "            return puntos, min_dist\n",
    "            \n",
    "    return puntos, min_dist\n",
    "\n",
    "#######################################################################\n",
    "\n",
    "lista_2d = [(random.randrange(1,10000), random.randrange(1,10000)) for x in range(1000)]\n",
    "n_intentos = 800\n",
    "intentos = set([generar_intento(len(lista_2d)-1) for i in range(n_intentos)])\n",
    "results = suerte_2d(lista_2d, intentos)\n",
    "print(f\"Los puntos mas cercanos son {results[0]} a distancia {results[1]}\")"
   ]
  },
  {
   "cell_type": "markdown",
   "metadata": {},
   "source": [
    "### Comparamos fuerza bruta y suerte"
   ]
  },
  {
   "cell_type": "code",
   "execution_count": 209,
   "metadata": {},
   "outputs": [],
   "source": [
    "lista_2d2 = [(random.randrange(1,10000), random.randrange(1,10000)) for x in range(1000)]\n",
    "\n",
    "n_intentos = 400000\n",
    "intentos = set([generar_intento(len(lista_2d)-1) for i in range(n_intentos)])"
   ]
  },
  {
   "cell_type": "code",
   "execution_count": 210,
   "metadata": {},
   "outputs": [
    {
     "name": "stdout",
     "output_type": "stream",
     "text": [
      "Los puntos mas cercanos son ((3817, 5155), (3816, 5152)) a distancia 3.1622776601683795 con suerte.\n",
      "Wall time: 322 ms\n"
     ]
    }
   ],
   "source": [
    "%%time\n",
    "\n",
    "results1 = suerte_2d(lista_2d2, intentos)\n",
    "print(f\"Los puntos mas cercanos son {results1[0]} a distancia {results1[1]} con suerte.\")"
   ]
  },
  {
   "cell_type": "code",
   "execution_count": 211,
   "metadata": {},
   "outputs": [
    {
     "name": "stdout",
     "output_type": "stream",
     "text": [
      "Los puntos mas cercanos son ((3817, 5155), (3816, 5152)) a distancia 3.1622776601683795 exactamente.\n",
      "Wall time: 1.12 s\n"
     ]
    }
   ],
   "source": [
    "%%time\n",
    "results2 = min_dist_2d(lista_2d2)\n",
    "print(f\"Los puntos mas cercanos son {results2[0]} a distancia {results2[1]} exactamente.\")"
   ]
  },
  {
   "cell_type": "markdown",
   "metadata": {},
   "source": [
    "**He hecho trampa ;)** Porque he sacado fuera la parte de generar intentos aleatorios, que es lo que más le cuesta a mi idea de probar suerte. Pero demuestro que si tienes una forma eficiente de realizar intentos aleatorios, que seguro que hay una forma más rápida de generar parejas de enteros sin repetición sobre la marcha, es una forma interesante de llegar al resultado óptimo o cerca de él."
   ]
  },
  {
   "cell_type": "markdown",
   "metadata": {},
   "source": [
    "En concreto tenemos por fuerza bruta 1000*1000 = 1 millon de parejas de puntos a evaluar. Probando suerte podemos coger la mitad y tenemos un 50% de posibilidades de encontrarlo. Además he considerado que si encuentro dos puntos a una distancia menor a 5, voy a tomar dicha pareja de puntos como solución. Es seguro? No. Pero si tuviese que ejecutarlo muchas veces ahorro mucho tiempo y es muy probable que sea la mejor solución o esté muy cerca."
   ]
  },
  {
   "cell_type": "markdown",
   "metadata": {},
   "source": [
    "### Divide y vencerás 2D\n",
    "\n",
    "No estoy muy seguro de como plantearlo con divide y vencerás ya que aunque parta la lista en sublistas, si no comparo cada punto con todos los demás no puedo saber si es el optimo con seguridad."
   ]
  },
  {
   "cell_type": "code",
   "execution_count": null,
   "metadata": {},
   "outputs": [],
   "source": []
  },
  {
   "cell_type": "code",
   "execution_count": null,
   "metadata": {},
   "outputs": [],
   "source": []
  },
  {
   "cell_type": "code",
   "execution_count": null,
   "metadata": {},
   "outputs": [],
   "source": []
  },
  {
   "cell_type": "code",
   "execution_count": null,
   "metadata": {
    "id": "TocxR55dQWq5"
   },
   "outputs": [],
   "source": []
  }
 ],
 "metadata": {
  "colab": {
   "collapsed_sections": [],
   "name": "Algoritmos AG1 - Plantilla.ipynb",
   "provenance": []
  },
  "kernelspec": {
   "display_name": "Python 3 (ipykernel)",
   "language": "python",
   "name": "python3"
  },
  "language_info": {
   "codemirror_mode": {
    "name": "ipython",
    "version": 3
   },
   "file_extension": ".py",
   "mimetype": "text/x-python",
   "name": "python",
   "nbconvert_exporter": "python",
   "pygments_lexer": "ipython3",
   "version": "3.7.11"
  }
 },
 "nbformat": 4,
 "nbformat_minor": 1
}
